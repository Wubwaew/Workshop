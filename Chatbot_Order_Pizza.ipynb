{
  "nbformat": 4,
  "nbformat_minor": 0,
  "metadata": {
    "colab": {
      "provenance": [],
      "authorship_tag": "ABX9TyNXqNtQc/f8E7YImx9fhscH",
      "include_colab_link": true
    },
    "kernelspec": {
      "name": "python3",
      "display_name": "Python 3"
    },
    "language_info": {
      "name": "python"
    }
  },
  "cells": [
    {
      "cell_type": "markdown",
      "metadata": {
        "id": "view-in-github",
        "colab_type": "text"
      },
      "source": [
        "<a href=\"https://colab.research.google.com/github/Wubwaew/Workshop/blob/main/Chatbot_Order_Pizza.ipynb\" target=\"_parent\"><img src=\"https://colab.research.google.com/assets/colab-badge.svg\" alt=\"Open In Colab\"/></a>"
      ]
    },
    {
      "cell_type": "code",
      "execution_count": null,
      "metadata": {
        "id": "s3C97ZJtehlU"
      },
      "outputs": [],
      "source": [
        "# Welcome message\n",
        "welcome_message <- \"Welcome to Pizza Waew's Mania! \\n We have delicious pizzas waiting for you. \"\n",
        "\n",
        "# Menu options\n",
        "menu <- c(\"Hawaiian\", \"Pepperoni\", \"Supreme\", \"Veggie Delight\", \"Meat Lovers\")\n",
        "\n",
        "# Drinks options\n",
        "drinks <- c(\"Soft Drink\", \"Juice\")\n",
        "\n",
        "# Bill payment channels\n",
        "payment_channels <- c(\"Cash on Delivery\", \"Online Payment\")\n",
        "\n",
        "# Function to display menu\n",
        "show_menu <- function() {\n",
        "  cat(\"Our Menu:\\n\")\n",
        "  for (i in 1:length(menu)) {\n",
        "    cat(i, \". \", menu[i], \"\\n\")\n",
        "  }\n",
        "}\n",
        "\n",
        "# Main function\n",
        "order_pizza <- function() {\n",
        "  # Welcome message\n",
        "  cat(welcome_message, \"\\n\")\n",
        "\n",
        "  # Show menu\n",
        "  show_menu()\n",
        "\n",
        "  # Get user choice for pizza\n",
        "  pizza_choice <- readline(\"Enter the number of the pizza you want (1-5): \")\n",
        "  pizza_choice <- as.numeric(pizza_choice)\n",
        "\n",
        "  # Validate pizza choice\n",
        "  if (pizza_choice < 1 | pizza_choice > length(menu)) {\n",
        "    cat(\"Invalid choice. Please choose a number between 1 and \", length(menu), \"\\n\")\n",
        "    order_pizza()  # Restart the ordering process\n",
        "    return()\n",
        "  }\n",
        "\n",
        "  # Show drinks options\n",
        "  cat(\"\\nWhat would you like to drink?\\n\")\n",
        "  for (i in 1:length(drinks)) {\n",
        "    cat(i, \". \", drinks[i], \"\\n\")\n",
        "  }\n",
        "\n",
        "  # Get user choice for drink\n",
        "  drink_choice <- readline(\"Enter the number of the drink you want (1-2): \")\n",
        "  drink_choice <- as.numeric(drink_choice)\n",
        "\n",
        "  # Validate drink choice\n",
        "  if (drink_choice < 1 | drink_choice > length(drinks)) {\n",
        "    cat(\"Invalid choice. Please choose a number between 1 and \", length(drinks), \"\\n\")\n",
        "    order_pizza()  # Restart the ordering process\n",
        "    return()\n",
        "  }\n",
        "\n",
        "  # Show payment channels\n",
        "  cat(\"\\nHow would you like to pay?\\n\")\n",
        "  for (i in 1:length(payment_channels)) {\n",
        "    cat(i, \". \", payment_channels[i], \"\\n\")\n",
        "  }\n",
        "\n",
        "  # Get user choice for payment\n",
        "  payment_choice <- readline(\"Enter the number for your preferred payment channel (1-2): \")\n",
        "  payment_choice <- as.numeric(payment_choice)\n",
        "\n",
        "  # Validate payment choice\n",
        "  if (payment_choice < 1 | payment_choice > length(payment_channels)) {\n",
        "    cat(\"Invalid choice. Please choose a number between 1 and \", length(payment_channels), \"\\n\")\n",
        "    order_pizza()  # Restart the ordering process\n",
        "    return()\n",
        "  }\n",
        "\n",
        "  # Order confirmation\n",
        "  cat(\"\\nYou have ordered a \", menu[pizza_choice], \" pizza with a \", drinks[drink_choice], \" and will pay via \", payment_channels[payment_choice], \". \\nThank you for ordering! \")\n",
        "}\n",
        "\n",
        "# Start the ordering process\n",
        "order_pizza()"
      ]
    }
  ]
}