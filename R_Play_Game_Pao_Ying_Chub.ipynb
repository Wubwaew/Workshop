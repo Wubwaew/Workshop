{
  "nbformat": 4,
  "nbformat_minor": 0,
  "metadata": {
    "colab": {
      "provenance": [],
      "authorship_tag": "ABX9TyNo8+T354MfjA9ZYSiTcfBK",
      "include_colab_link": true
    },
    "kernelspec": {
      "name": "ir",
      "display_name": "R"
    },
    "language_info": {
      "name": "R"
    }
  },
  "cells": [
    {
      "cell_type": "markdown",
      "metadata": {
        "id": "view-in-github",
        "colab_type": "text"
      },
      "source": [
        "<a href=\"https://colab.research.google.com/github/Wubwaew/Workshop/blob/main/R_Play_Game_Pao_Ying_Chub.ipynb\" target=\"_parent\"><img src=\"https://colab.research.google.com/assets/colab-badge.svg\" alt=\"Open In Colab\"/></a>"
      ]
    },
    {
      "cell_type": "code",
      "execution_count": null,
      "metadata": {
        "id": "daPUhxeT8Qws"
      },
      "outputs": [],
      "source": [
        "\n",
        "# Function to get computer's choice randomly\n",
        "get_computer_choice <- function() {\n",
        "  choices <- c(\"rock\", \"paper\", \"scissors\")\n",
        "  sample(choices, 1)\n",
        "}\n",
        "\n",
        "# Function to determine the winner\n",
        "determine_winner <- function(player_choice, computer_choice) {\n",
        "  if (player_choice == computer_choice) {\n",
        "    return(\"It's a tie!\")\n",
        "  } else if ((player_choice == \"rock\" && computer_choice == \"scissors\") ||\n",
        "             (player_choice == \"paper\" && computer_choice == \"rock\") ||\n",
        "             (player_choice == \"scissors\" && computer_choice == \"paper\")) {\n",
        "    return(\"You win!\")\n",
        "  } else {\n",
        "    return(\"Computer wins!\")\n",
        "  }\n",
        "}\n",
        "\n",
        "# Main game loop\n",
        "play_game <- function() {\n",
        "  player_name <- readline(\"Enter your name: \")\n",
        "  win_count <- 0\n",
        "\n",
        "  for (turn in 1:10) {\n",
        "    computer_choice <- get_computer_choice()\n",
        "    player_choice <- readline(paste0(\"Turn \", turn, \": Enter your choice (rock, paper, scissors): \"))\n",
        "\n",
        "    result <- determine_winner(player_choice, computer_choice)\n",
        "    cat(\"Computer chose:\", computer_choice, \"\\n\")\n",
        "    cat(result, \"\\n\")\n",
        "\n",
        "    if (result == \"You win!\") {\n",
        "      win_count <- win_count + 1\n",
        "    }\n",
        "  }\n",
        "\n",
        "  if (win_count > 5) {\n",
        "    cat(player_name, \"wins the game!\\n\")\n",
        "  } else {\n",
        "    cat(\"Computer wins the game!\\n\")\n",
        "  }\n",
        "}\n",
        "\n",
        "# Start the game\n",
        "play_game()\n",
        "\n"
      ]
    }
  ]
}